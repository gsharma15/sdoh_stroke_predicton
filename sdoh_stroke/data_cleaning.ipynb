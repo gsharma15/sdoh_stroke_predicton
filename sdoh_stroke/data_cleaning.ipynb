{
 "cells": [
  {
   "cell_type": "code",
   "execution_count": 1,
   "id": "65049494",
   "metadata": {},
   "outputs": [],
   "source": [
    "#selected_columns = [\"DHH_MS\", \"DHH_SEX\", \"DHH_AGE\", \"MAC_010\", \"LBF_01\", \"PHC_020\", \"GEODVUR2\",\n",
    "   #          \"DHH_OWN\", \"STS_005\", \"STS_010\", \"STS_015\", \"GEN_005\", \"GEN_015\", \"GEN_020\", \"FSC_010\", \"FSC_055\", \"GEN_030\",\n",
    " #             \"EHG2DVH3\", \"ALC_010\", \"ALC_015\", \"ALC_020\", \"CCC_035\", \"CCC_065\", \"CCC_070\", \"CCC_095\", \"CCC_085\", \"CCC_090\",\n",
    "      #       \"CCC_080\", \"SMK_020\", \"SMK_005\", \"HWT_040\", \"HWT_050\", \"HWT_045\",\"HWT_005\", \"ETS_035\", \"ETS_040\",\n",
    "   #          \"CCC_195\", \"CCC_200\", \"CMH_005\", \"SDC_015\", \"SDC_020A\",\"SDC_020C\", \"SDC_020B\", \"SDC_020D\", \n",
    "   #      \"SDC_020E\", \"SDC_020F\", \"SDC_020H\", \"SDC_020G\", \"SDC_020I\", \"SDC_020K\", \"SDC_020J\", \"SDC_010A\", \"SDC_010B\", \n",
    "    #    \"SDC_010C\", \"SDC_010D\", \"SDC_010E\", \"SDC_010F\", \"SDC_010G\",\"SDC_010H\", \"SDC_010I\", \"SDC_010J\", \n",
    "  #   \"SDC_010K\", \"SDC_010L\", \"SDC_010M\", \"SDC_010N\", \"SDC_010O\", \"SDC_010P\", \"SDC_010Q\", \"SDC_010U\", \n",
    "   # \"SDC_010S\", \"SDC_010T\" \n",
    "      #             ] \n",
    "#\"HWTDVISW\", \"GEODVPC\""
   ]
  },
  {
   "cell_type": "code",
   "execution_count": 2,
   "id": "02756fb4",
   "metadata": {},
   "outputs": [],
   "source": [
    "#import necessary libraries\n",
    "import os\n",
    "import pandas as pd\n",
    "import numpy as np\n",
    "from sklearn.preprocessing import LabelEncoder"
   ]
  },
  {
   "cell_type": "code",
   "execution_count": 3,
   "id": "479fa2c3",
   "metadata": {},
   "outputs": [],
   "source": [
    "#define the path to the merged data\n",
    "path = r'merged_survey_data.csv'\n",
    "df = pd.read_csv(path,  encoding ='latin1', sep =',', index_col = 0)"
   ]
  },
  {
   "cell_type": "code",
   "execution_count": 4,
   "id": "55d2ee74",
   "metadata": {},
   "outputs": [
    {
     "data": {
      "text/plain": [
       "(140131, 69)"
      ]
     },
     "execution_count": 4,
     "metadata": {},
     "output_type": "execute_result"
    }
   ],
   "source": [
    "df.shape"
   ]
  },
  {
   "cell_type": "code",
   "execution_count": 87,
   "id": "570352d0",
   "metadata": {},
   "outputs": [
    {
     "data": {
      "text/plain": [
       "DHH_MS      0\n",
       "DHH_SEX     0\n",
       "DHH_AGE     0\n",
       "MAC_010     0\n",
       "LBF_01      0\n",
       "           ..\n",
       "SDC_010P    0\n",
       "SDC_010Q    0\n",
       "SDC_010U    0\n",
       "SDC_010S    0\n",
       "SDC_010T    0\n",
       "Length: 69, dtype: int64"
      ]
     },
     "execution_count": 87,
     "metadata": {},
     "output_type": "execute_result"
    }
   ],
   "source": [
    "df.isna().sum()"
   ]
  },
  {
   "cell_type": "code",
   "execution_count": 88,
   "id": "5a10818b",
   "metadata": {},
   "outputs": [
    {
     "data": {
      "text/plain": [
       "1    20141\n",
       "2     7095\n",
       "Name: GEODVUR2, dtype: int64"
      ]
     },
     "execution_count": 88,
     "metadata": {},
     "output_type": "execute_result"
    }
   ],
   "source": [
    "#df['DHH_MS'] = df['DHH_MS'].astype(int)\n",
    "df['GEODVUR2'].value_counts()"
   ]
  },
  {
   "cell_type": "code",
   "execution_count": 89,
   "id": "66fd4335",
   "metadata": {},
   "outputs": [
    {
     "data": {
      "text/plain": [
       "1    8030\n",
       "6    7864\n",
       "2    5285\n",
       "3    2606\n",
       "5    2526\n",
       "4     911\n",
       "0      14\n",
       "Name: DHH_MS, dtype: int64"
      ]
     },
     "execution_count": 89,
     "metadata": {},
     "output_type": "execute_result"
    }
   ],
   "source": [
    "# List of values to be removed from the respective column.\n",
    "values_to_remove = [97, 98, 99]\n",
    "\n",
    "# Filter the DataFrame 'df' to exclude rows where the 'DHH_MS' column contains any of the values in 'values_to_remove'.\n",
    "# The '~' operator inverts the boolean series produced by `isin`, effectively selecting rows that do not contain the specified values.\n",
    "df = df[~df['DHH_MS'].isin(values_to_remove)]\n",
    "\n",
    "#df['DHH_MS'] = df['DHH_MS'].astype(int)\n",
    "\n",
    "# Calculate and display the value counts for the 'DHH_MS' column after the filtering.\n",
    "# This provides a distribution of the remaining values, which is useful for understanding the data's characteristics or for further data cleaning and analysis.\n",
    "df['DHH_MS'].value_counts()\n"
   ]
  },
  {
   "cell_type": "code",
   "execution_count": 90,
   "id": "1e4842da",
   "metadata": {},
   "outputs": [
    {
     "data": {
      "text/plain": [
       "2    14495\n",
       "1    12741\n",
       "Name: DHH_SEX, dtype: int64"
      ]
     },
     "execution_count": 90,
     "metadata": {},
     "output_type": "execute_result"
    }
   ],
   "source": [
    "#df['DHH_MS'] = df['DHH_MS'].astype(int)\n",
    "df['DHH_SEX'].value_counts()"
   ]
  },
  {
   "cell_type": "code",
   "execution_count": 92,
   "id": "f2e18520",
   "metadata": {},
   "outputs": [
    {
     "data": {
      "text/plain": [
       "1    14701\n",
       "2     8244\n",
       "0     4291\n",
       "Name: MAC_010, dtype: int64"
      ]
     },
     "execution_count": 92,
     "metadata": {},
     "output_type": "execute_result"
    }
   ],
   "source": [
    "values_to_remove2 = [6,7,8,9]\n",
    "df = df[~df['MAC_010'].isin(values_to_remove2)]\n",
    "#df['DHH_MS'] = df['DHH_MS'].astype(int)\n",
    "df['MAC_010'].value_counts()"
   ]
  },
  {
   "cell_type": "code",
   "execution_count": 93,
   "id": "ef60ea06",
   "metadata": {},
   "outputs": [
    {
     "data": {
      "text/plain": [
       "1    11644\n",
       "2    11362\n",
       "0     4230\n",
       "Name: LBF_01, dtype: int64"
      ]
     },
     "execution_count": 93,
     "metadata": {},
     "output_type": "execute_result"
    }
   ],
   "source": [
    "values_to_remove3 = [3,6,7,8,9]\n",
    "df = df[~df['LBF_01'].isin(values_to_remove3)]\n",
    "#df['DHH_MS'] = df['DHH_MS'].astype(int)\n",
    "df['LBF_01'].value_counts()"
   ]
  },
  {
   "cell_type": "code",
   "execution_count": 94,
   "id": "a2b6bccb",
   "metadata": {},
   "outputs": [
    {
     "data": {
      "text/plain": [
       "1    22498\n",
       "2     4670\n",
       "0       68\n",
       "Name: PHC_020, dtype: int64"
      ]
     },
     "execution_count": 94,
     "metadata": {},
     "output_type": "execute_result"
    }
   ],
   "source": [
    "values_to_remove4 = [7,8,9]\n",
    "df = df[~df['PHC_020'].isin(values_to_remove4)]\n",
    "#df['DHH_MS'] = df['DHH_MS'].astype(int)\n",
    "df['PHC_020'].value_counts()"
   ]
  },
  {
   "cell_type": "code",
   "execution_count": 95,
   "id": "96103b1d",
   "metadata": {},
   "outputs": [
    {
     "data": {
      "text/plain": [
       "1    18087\n",
       "2     9038\n",
       "0      111\n",
       "Name: DHH_OWN, dtype: int64"
      ]
     },
     "execution_count": 95,
     "metadata": {},
     "output_type": "execute_result"
    }
   ],
   "source": [
    "values_to_remove5 = [7,8,9]\n",
    "df = df[~df['DHH_OWN'].isin(values_to_remove5)]\n",
    "#df['DHH_MS'] = df['DHH_MS'].astype(int)\n",
    "df['DHH_OWN'].value_counts()"
   ]
  },
  {
   "cell_type": "code",
   "execution_count": 96,
   "id": "6e2fcc78",
   "metadata": {},
   "outputs": [
    {
     "data": {
      "text/plain": [
       "2    14454\n",
       "1     7205\n",
       "3     3358\n",
       "6      828\n",
       "4      736\n",
       "0      655\n",
       "Name: STS_005, dtype: int64"
      ]
     },
     "execution_count": 96,
     "metadata": {},
     "output_type": "execute_result"
    }
   ],
   "source": [
    "values_to_remove6 = [7,8,9]\n",
    "df = df[~df['STS_005'].isin(values_to_remove6)]\n",
    "#df['DHH_MS'] = df['DHH_MS'].astype(int)\n",
    "df['STS_005'].value_counts()"
   ]
  },
  {
   "cell_type": "code",
   "execution_count": 97,
   "id": "f644a084",
   "metadata": {},
   "outputs": [
    {
     "data": {
      "text/plain": [
       "2    14129\n",
       "1     9476\n",
       "3     1847\n",
       "6      828\n",
       "0      620\n",
       "4      336\n",
       "Name: STS_010, dtype: int64"
      ]
     },
     "execution_count": 97,
     "metadata": {},
     "output_type": "execute_result"
    }
   ],
   "source": [
    "values_to_remove7 = [7,8,9]\n",
    "df = df[~df['STS_010'].isin(values_to_remove7)]\n",
    "#df['DHH_MS'] = df['DHH_MS'].astype(int)\n",
    "df['STS_010'].value_counts()"
   ]
  },
  {
   "cell_type": "code",
   "execution_count": 98,
   "id": "711e8b88",
   "metadata": {},
   "outputs": [],
   "source": [
    "#values_to_remove8 = [7,8,96, 97,98,99]\n",
    "#df = df[~df['STS_015'].isin(values_to_remove8)]\n",
    "#df['DHH_MS'] = df['DHH_MS'].astype(int)\n",
    "#df['STS_015'].value_counts()"
   ]
  },
  {
   "cell_type": "code",
   "execution_count": 99,
   "id": "d93b8c40",
   "metadata": {},
   "outputs": [
    {
     "data": {
      "text/plain": [
       "2    9376\n",
       "3    8269\n",
       "1    6271\n",
       "4    2572\n",
       "5     725\n",
       "0      23\n",
       "Name: GEN_005, dtype: int64"
      ]
     },
     "execution_count": 99,
     "metadata": {},
     "output_type": "execute_result"
    }
   ],
   "source": [
    "values_to_remove9 = [7,8]\n",
    "df = df[~df['GEN_005'].isin(values_to_remove9)]\n",
    "#df['DHH_MS'] = df['DHH_MS'].astype(int)\n",
    "df['GEN_005'].value_counts()"
   ]
  },
  {
   "cell_type": "code",
   "execution_count": null,
   "id": "c1630913",
   "metadata": {},
   "outputs": [],
   "source": []
  },
  {
   "cell_type": "code",
   "execution_count": 100,
   "id": "1219e16e",
   "metadata": {},
   "outputs": [
    {
     "data": {
      "text/plain": [
       "3    9748\n",
       "2    6355\n",
       "1    5616\n",
       "4    4807\n",
       "5     642\n",
       "0      68\n",
       "Name: GEN_020, dtype: int64"
      ]
     },
     "execution_count": 100,
     "metadata": {},
     "output_type": "execute_result"
    }
   ],
   "source": [
    "values_to_remove11 = [7,8]\n",
    "df = df[~df['GEN_020'].isin(values_to_remove11)]\n",
    "#df['DHH_MS'] = df['DHH_MS'].astype(int)\n",
    "df['GEN_020'].value_counts()"
   ]
  },
  {
   "cell_type": "code",
   "execution_count": 101,
   "id": "c63c2f0c",
   "metadata": {},
   "outputs": [
    {
     "data": {
      "text/plain": [
       "2    12962\n",
       "3     7568\n",
       "1     3869\n",
       "4     1984\n",
       "0      853\n",
       "Name: GEN_030, dtype: int64"
      ]
     },
     "execution_count": 101,
     "metadata": {},
     "output_type": "execute_result"
    }
   ],
   "source": [
    "values_to_remove12 = [7,8,9]\n",
    "df = df[~df['GEN_030'].isin(values_to_remove12)]\n",
    "#df['DHH_MS'] = df['DHH_MS'].astype(int)\n",
    "df['GEN_030'].value_counts()"
   ]
  },
  {
   "cell_type": "code",
   "execution_count": 102,
   "id": "cdac5659",
   "metadata": {},
   "outputs": [
    {
     "data": {
      "text/plain": [
       "3    24832\n",
       "2     1752\n",
       "1      505\n",
       "0      147\n",
       "Name: FSC_010, dtype: int64"
      ]
     },
     "execution_count": 102,
     "metadata": {},
     "output_type": "execute_result"
    }
   ],
   "source": [
    "values_to_remove13 = [7,8,9]\n",
    "df = df[~df['FSC_010'].isin(values_to_remove13)]\n",
    "#df['DHH_MS'] = df['DHH_MS'].astype(int)\n",
    "df['FSC_010'].value_counts()"
   ]
  },
  {
   "cell_type": "code",
   "execution_count": 103,
   "id": "2dadfbc4",
   "metadata": {},
   "outputs": [
    {
     "data": {
      "text/plain": [
       "0    23815\n",
       "2     2891\n",
       "1      530\n",
       "Name: FSC_055, dtype: int64"
      ]
     },
     "execution_count": 103,
     "metadata": {},
     "output_type": "execute_result"
    }
   ],
   "source": [
    "values_to_remove14 = [6,7,8,9]\n",
    "df = df[~df['FSC_055'].isin(values_to_remove14)]\n",
    "#df['DHH_MS'] = df['DHH_MS'].astype(int)\n",
    "df['FSC_055'].value_counts()"
   ]
  },
  {
   "cell_type": "code",
   "execution_count": 104,
   "id": "f796a4b0",
   "metadata": {},
   "outputs": [
    {
     "data": {
      "text/plain": [
       "3    18957\n",
       "1     3738\n",
       "2     3718\n",
       "0      823\n",
       "Name: EHG2DVH3, dtype: int64"
      ]
     },
     "execution_count": 104,
     "metadata": {},
     "output_type": "execute_result"
    }
   ],
   "source": [
    "values_to_remove15 = [9]\n",
    "df = df[~df['EHG2DVH3'].isin(values_to_remove15)]\n",
    "#df['DHH_MS'] = df['DHH_MS'].astype(int)\n",
    "df['EHG2DVH3'].value_counts()"
   ]
  },
  {
   "cell_type": "code",
   "execution_count": 105,
   "id": "41cd2f0f",
   "metadata": {},
   "outputs": [
    {
     "data": {
      "text/plain": [
       "1    22099\n",
       "2     3193\n",
       "0     1944\n",
       "Name: ALC_010, dtype: int64"
      ]
     },
     "execution_count": 105,
     "metadata": {},
     "output_type": "execute_result"
    }
   ],
   "source": [
    "values_to_remove16 = [6]\n",
    "df = df[~df['ALC_010'].isin(values_to_remove16)]\n",
    "#df['DHH_MS'] = df['DHH_MS'].astype(int)\n",
    "df['ALC_010'].value_counts()"
   ]
  },
  {
   "cell_type": "code",
   "execution_count": 106,
   "id": "4bcdb129",
   "metadata": {},
   "outputs": [
    {
     "data": {
      "text/plain": [
       "5    5533\n",
       "0    5193\n",
       "1    4097\n",
       "4    3590\n",
       "3    2575\n",
       "2    2266\n",
       "7    2136\n",
       "6    1846\n",
       "Name: ALC_015, dtype: int64"
      ]
     },
     "execution_count": 106,
     "metadata": {},
     "output_type": "execute_result"
    }
   ],
   "source": [
    "values_to_remove17 = [96,97,98,99]\n",
    "df = df[~df['ALC_015'].isin(values_to_remove17)]\n",
    "#df['DHH_MS'] = df['DHH_MS'].astype(int)\n",
    "df['ALC_015'].value_counts()"
   ]
  },
  {
   "cell_type": "code",
   "execution_count": 107,
   "id": "7efe727d",
   "metadata": {},
   "outputs": [
    {
     "data": {
      "text/plain": [
       "2    24712\n",
       "1     2501\n",
       "0       23\n",
       "Name: CCC_015, dtype: int64"
      ]
     },
     "execution_count": 107,
     "metadata": {},
     "output_type": "execute_result"
    }
   ],
   "source": [
    "values_to_remove19 = [6,7,8,9]\n",
    "df = df[~df['CCC_015'].isin(values_to_remove19)]\n",
    "#df['DHH_MS'] = df['DHH_MS'].astype(int)\n",
    "df['CCC_015'].value_counts()"
   ]
  },
  {
   "cell_type": "code",
   "execution_count": 108,
   "id": "201f10e7",
   "metadata": {},
   "outputs": [
    {
     "data": {
      "text/plain": [
       "2    21123\n",
       "1     6047\n",
       "0       66\n",
       "Name: CCC_065, dtype: int64"
      ]
     },
     "execution_count": 108,
     "metadata": {},
     "output_type": "execute_result"
    }
   ],
   "source": [
    "values_to_remove20 = [7,9]\n",
    "df = df[~df['CCC_065'].isin(values_to_remove20)]\n",
    "#df['DHH_MS'] = df['DHH_MS'].astype(int)\n",
    "df['CCC_065'].value_counts()"
   ]
  },
  {
   "cell_type": "code",
   "execution_count": 109,
   "id": "d9e906c3",
   "metadata": {},
   "outputs": [
    {
     "data": {
      "text/plain": [
       "2    20312\n",
       "1     6851\n",
       "0       73\n",
       "Name: CCC_070, dtype: int64"
      ]
     },
     "execution_count": 109,
     "metadata": {},
     "output_type": "execute_result"
    }
   ],
   "source": [
    "values_to_remove21 = [7,6,9]\n",
    "df = df[~df['CCC_070'].isin(values_to_remove21)]\n",
    "#df['DHH_MS'] = df['DHH_MS'].astype(int)\n",
    "df['CCC_070'].value_counts()"
   ]
  },
  {
   "cell_type": "code",
   "execution_count": 110,
   "id": "d5991e95",
   "metadata": {},
   "outputs": [
    {
     "data": {
      "text/plain": [
       "2    24617\n",
       "1     2578\n",
       "0       41\n",
       "Name: CCC_095, dtype: int64"
      ]
     },
     "execution_count": 110,
     "metadata": {},
     "output_type": "execute_result"
    }
   ],
   "source": [
    "values_to_remove22 = [7,9]\n",
    "df = df[~df['CCC_095'].isin(values_to_remove22)]\n",
    "#df['DHH_MS'] = df['DHH_MS'].astype(int)\n",
    "df['CCC_095'].value_counts()"
   ]
  },
  {
   "cell_type": "code",
   "execution_count": 111,
   "id": "380d98c1",
   "metadata": {},
   "outputs": [
    {
     "data": {
      "text/plain": [
       "2    25188\n",
       "1     1986\n",
       "0       62\n",
       "Name: CCC_085, dtype: int64"
      ]
     },
     "execution_count": 111,
     "metadata": {},
     "output_type": "execute_result"
    }
   ],
   "source": [
    "values_to_remove23 = [7,9]\n",
    "df = df[~df['CCC_085'].isin(values_to_remove23)]\n",
    "#df['DHH_MS'] = df['DHH_MS'].astype(int)\n",
    "df['CCC_085'].value_counts()"
   ]
  },
  {
   "cell_type": "code",
   "execution_count": 112,
   "id": "6cc73d5d",
   "metadata": {},
   "outputs": [
    {
     "data": {
      "text/plain": [
       "3    22557\n",
       "1     3434\n",
       "2     1243\n",
       "0        2\n",
       "Name: SMK_005, dtype: int64"
      ]
     },
     "execution_count": 112,
     "metadata": {},
     "output_type": "execute_result"
    }
   ],
   "source": [
    "values_to_remove25 = [7,9]\n",
    "df = df[~df['SMK_005'].isin(values_to_remove25)]\n",
    "#df['DHH_MS'] = df['DHH_MS'].astype(int)\n",
    "df['SMK_005'].value_counts()"
   ]
  },
  {
   "cell_type": "code",
   "execution_count": 113,
   "id": "b2ab8be7",
   "metadata": {},
   "outputs": [
    {
     "data": {
      "text/plain": [
       "2    19729\n",
       "1     5737\n",
       "0     1770\n",
       "Name: CCC_080, dtype: int64"
      ]
     },
     "execution_count": 113,
     "metadata": {},
     "output_type": "execute_result"
    }
   ],
   "source": [
    "values_to_remove25 = [6,7]\n",
    "df = df[~df['CCC_080'].isin(values_to_remove25)]\n",
    "#df['DHH_MS'] = df['DHH_MS'].astype(int)\n",
    "df['CCC_080'].value_counts()"
   ]
  },
  {
   "cell_type": "code",
   "execution_count": 114,
   "id": "58db8514",
   "metadata": {},
   "outputs": [
    {
     "data": {
      "text/plain": [
       "1    13797\n",
       "2    13403\n",
       "0       36\n",
       "Name: SMK_020, dtype: int64"
      ]
     },
     "execution_count": 114,
     "metadata": {},
     "output_type": "execute_result"
    }
   ],
   "source": [
    "values_to_remove26 = [7]\n",
    "df = df[~df['SMK_020'].isin(values_to_remove26)]\n",
    "#df['DHH_MS'] = df['DHH_MS'].astype(int)\n",
    "df['SMK_020'].value_counts()"
   ]
  },
  {
   "cell_type": "code",
   "execution_count": 115,
   "id": "e08b29b9",
   "metadata": {},
   "outputs": [
    {
     "data": {
      "text/plain": [
       "2    24964\n",
       "1     2243\n",
       "0       29\n",
       "Name: CCC_200, dtype: int64"
      ]
     },
     "execution_count": 115,
     "metadata": {},
     "output_type": "execute_result"
    }
   ],
   "source": [
    "values_to_remove27 = [7,9]\n",
    "df = df[~df['CCC_200'].isin(values_to_remove27)]\n",
    "#df['DHH_MS'] = df['DHH_MS'].astype(int)\n",
    "df['CCC_200'].value_counts()"
   ]
  },
  {
   "cell_type": "code",
   "execution_count": 116,
   "id": "25f20b5f",
   "metadata": {},
   "outputs": [
    {
     "data": {
      "text/plain": [
       "2    23190\n",
       "1     3500\n",
       "0      546\n",
       "Name: CMH_005, dtype: int64"
      ]
     },
     "execution_count": 116,
     "metadata": {},
     "output_type": "execute_result"
    }
   ],
   "source": [
    "values_to_remove28 = [6,7,8,9]\n",
    "df = df[~df['CMH_005'].isin(values_to_remove28)]\n",
    "#df['DHH_MS'] = df['DHH_MS'].astype(int)\n",
    "df['CMH_005'].value_counts()"
   ]
  },
  {
   "cell_type": "code",
   "execution_count": 117,
   "id": "202e611a",
   "metadata": {},
   "outputs": [
    {
     "data": {
      "text/plain": [
       "2    22449\n",
       "0     3938\n",
       "1      849\n",
       "Name: ETS_035, dtype: int64"
      ]
     },
     "execution_count": 117,
     "metadata": {},
     "output_type": "execute_result"
    }
   ],
   "source": [
    "values_to_remove29 = [6,7,9]\n",
    "df = df[~df['ETS_035'].isin(values_to_remove29)]\n",
    "#df['DHH_MS'] = df['DHH_MS'].astype(int)\n",
    "df['ETS_035'].value_counts()"
   ]
  },
  {
   "cell_type": "code",
   "execution_count": 118,
   "id": "86a1d316",
   "metadata": {},
   "outputs": [
    {
     "data": {
      "text/plain": [
       "2    21335\n",
       "0     3947\n",
       "1     1954\n",
       "Name: ETS_040, dtype: int64"
      ]
     },
     "execution_count": 118,
     "metadata": {},
     "output_type": "execute_result"
    }
   ],
   "source": [
    "values_to_remove30 = [6,7,9]\n",
    "df = df[~df['ETS_040'].isin(values_to_remove30)]\n",
    "#df['DHH_MS'] = df['DHH_MS'].astype(int)\n",
    "df['ETS_040'].value_counts()"
   ]
  },
  {
   "cell_type": "code",
   "execution_count": 119,
   "id": "88bb7f73",
   "metadata": {},
   "outputs": [],
   "source": [
    "values_to_remove32 = [997,998,999]\n",
    "df = df[~df['HWT_040'].isin(values_to_remove32)]\n",
    "#df['DHH_MS'] = df['DHH_MS'].astype(int)\n",
    "#df['HWT_040'].value_counts()"
   ]
  },
  {
   "cell_type": "code",
   "execution_count": 120,
   "id": "962ac5d3",
   "metadata": {},
   "outputs": [
    {
     "data": {
      "text/plain": [
       "3    17373\n",
       "1     8095\n",
       "0     1136\n",
       "2      632\n",
       "Name: HWT_050, dtype: int64"
      ]
     },
     "execution_count": 120,
     "metadata": {},
     "output_type": "execute_result"
    }
   ],
   "source": [
    "values_to_remove33 = [6,7,8,9]\n",
    "df = df[~df['HWT_050'].isin(values_to_remove33)]\n",
    "#df['DHH_MS'] = df['DHH_MS'].astype(int)\n",
    "df['HWT_050'].value_counts()"
   ]
  },
  {
   "cell_type": "code",
   "execution_count": 121,
   "id": "4f7eba18",
   "metadata": {},
   "outputs": [
    {
     "data": {
      "text/plain": [
       "1    24073\n",
       "2     2045\n",
       "0     1118\n",
       "Name: HWT_045, dtype: int64"
      ]
     },
     "execution_count": 121,
     "metadata": {},
     "output_type": "execute_result"
    }
   ],
   "source": [
    "values_to_remove34 = [6,9]\n",
    "df = df[~df['HWT_045'].isin(values_to_remove34)]\n",
    "#df['DHH_MS'] = df['DHH_MS'].astype(int)\n",
    "df['HWT_045'].value_counts()"
   ]
  },
  {
   "cell_type": "code",
   "execution_count": 122,
   "id": "804dec78",
   "metadata": {},
   "outputs": [],
   "source": [
    "#df.loc[df['HWT_045']==1, 'HWT_040']*= 0.45359237\n",
    "#df['HWT_045'] = 'UNIT_KG'\n",
    "#df['HWT_040'].value_counts()"
   ]
  },
  {
   "cell_type": "code",
   "execution_count": 123,
   "id": "5c9d6727",
   "metadata": {},
   "outputs": [
    {
     "data": {
      "text/plain": [
       "5    23284\n",
       "6     2166\n",
       "0      986\n",
       "4      784\n",
       "3        9\n",
       "7        7\n",
       "Name: HWT_005, dtype: int64"
      ]
     },
     "execution_count": 123,
     "metadata": {},
     "output_type": "execute_result"
    }
   ],
   "source": [
    "values_to_remove35= [96,97,98,99]\n",
    "df = df[~df['HWT_005'].isin(values_to_remove35)]\n",
    "#df['DHH_MS'] = df['DHH_MS'].astype(int)\n",
    "df['HWT_005'].value_counts()"
   ]
  },
  {
   "cell_type": "code",
   "execution_count": 124,
   "id": "f79d3d65",
   "metadata": {},
   "outputs": [
    {
     "data": {
      "text/plain": [
       "2    23904\n",
       "0     2657\n",
       "1      675\n",
       "Name: SDC_015, dtype: int64"
      ]
     },
     "execution_count": 124,
     "metadata": {},
     "output_type": "execute_result"
    }
   ],
   "source": [
    "values_to_remove36= [6,7]\n",
    "df = df[~df['SDC_015'].isin(values_to_remove36)]\n",
    "#df['DHH_MS'] = df['DHH_MS'].astype(int)\n",
    "df['SDC_015'].value_counts()"
   ]
  },
  {
   "cell_type": "code",
   "execution_count": 125,
   "id": "958d0d4c",
   "metadata": {},
   "outputs": [
    {
     "data": {
      "text/plain": [
       "1    24855\n",
       "2     1600\n",
       "0      781\n",
       "Name: SDC_020A, dtype: int64"
      ]
     },
     "execution_count": 125,
     "metadata": {},
     "output_type": "execute_result"
    }
   ],
   "source": [
    "values_to_remove37= [6,7]\n",
    "df = df[~df['SDC_020A'].isin(values_to_remove37)]\n",
    "#df['DHH_MS'] = df['DHH_MS'].astype(int)\n",
    "df['SDC_020A'].value_counts()"
   ]
  },
  {
   "cell_type": "code",
   "execution_count": 126,
   "id": "2f6dec0b",
   "metadata": {},
   "outputs": [
    {
     "data": {
      "text/plain": [
       "2    26372\n",
       "0      781\n",
       "1       83\n",
       "Name: SDC_020B, dtype: int64"
      ]
     },
     "execution_count": 126,
     "metadata": {},
     "output_type": "execute_result"
    }
   ],
   "source": [
    "values_to_remove38= [6,7]\n",
    "df = df[~df['SDC_020B'].isin(values_to_remove38)]\n",
    "#df['DHH_MS'] = df['DHH_MS'].astype(int)\n",
    "df['SDC_020B'].value_counts()"
   ]
  },
  {
   "cell_type": "code",
   "execution_count": 127,
   "id": "f8376596",
   "metadata": {},
   "outputs": [
    {
     "data": {
      "text/plain": [
       "2    26328\n",
       "0      781\n",
       "1      127\n",
       "Name: SDC_020C, dtype: int64"
      ]
     },
     "execution_count": 127,
     "metadata": {},
     "output_type": "execute_result"
    }
   ],
   "source": [
    "values_to_remove39= [6,7]\n",
    "df = df[~df['SDC_020C'].isin(values_to_remove39)]\n",
    "#df['DHH_MS'] = df['DHH_MS'].astype(int)\n",
    "df['SDC_020C'].value_counts()"
   ]
  },
  {
   "cell_type": "code",
   "execution_count": 128,
   "id": "4e5b2395",
   "metadata": {},
   "outputs": [
    {
     "data": {
      "text/plain": [
       "2    25900\n",
       "0      781\n",
       "1      555\n",
       "Name: SDC_020D, dtype: int64"
      ]
     },
     "execution_count": 128,
     "metadata": {},
     "output_type": "execute_result"
    }
   ],
   "source": [
    "values_to_remove40= [6,7]\n",
    "df = df[~df['SDC_020D'].isin(values_to_remove40)]\n",
    "#df['DHH_MS'] = df['DHH_MS'].astype(int)\n",
    "df['SDC_020D'].value_counts()"
   ]
  },
  {
   "cell_type": "code",
   "execution_count": 129,
   "id": "08c2c95e",
   "metadata": {},
   "outputs": [
    {
     "data": {
      "text/plain": [
       "2    26424\n",
       "0      781\n",
       "1       31\n",
       "Name: SDC_020E, dtype: int64"
      ]
     },
     "execution_count": 129,
     "metadata": {},
     "output_type": "execute_result"
    }
   ],
   "source": [
    "values_to_remove41= [6,7]\n",
    "df = df[~df['SDC_020E'].isin(values_to_remove41)]\n",
    "#df['DHH_MS'] = df['DHH_MS'].astype(int)\n",
    "df['SDC_020E'].value_counts()"
   ]
  },
  {
   "cell_type": "code",
   "execution_count": 130,
   "id": "9b2ed93e",
   "metadata": {},
   "outputs": [
    {
     "data": {
      "text/plain": [
       "2    26143\n",
       "0      781\n",
       "1      312\n",
       "Name: SDC_020F, dtype: int64"
      ]
     },
     "execution_count": 130,
     "metadata": {},
     "output_type": "execute_result"
    }
   ],
   "source": [
    "values_to_remove42= [6,7]\n",
    "df = df[~df['SDC_020F'].isin(values_to_remove42)]\n",
    "#df['DHH_MS'] = df['DHH_MS'].astype(int)\n",
    "df['SDC_020F'].value_counts()"
   ]
  },
  {
   "cell_type": "code",
   "execution_count": 131,
   "id": "dcae2c89",
   "metadata": {},
   "outputs": [
    {
     "data": {
      "text/plain": [
       "2    26039\n",
       "0      781\n",
       "1      416\n",
       "Name: SDC_020G, dtype: int64"
      ]
     },
     "execution_count": 131,
     "metadata": {},
     "output_type": "execute_result"
    }
   ],
   "source": [
    "values_to_remove43= [6,7]\n",
    "df = df[~df['SDC_020G'].isin(values_to_remove43)]\n",
    "#df['DHH_MS'] = df['DHH_MS'].astype(int)\n",
    "df['SDC_020G'].value_counts()"
   ]
  },
  {
   "cell_type": "code",
   "execution_count": 132,
   "id": "4e06c523",
   "metadata": {},
   "outputs": [
    {
     "data": {
      "text/plain": [
       "2    26347\n",
       "0      781\n",
       "1      108\n",
       "Name: SDC_020H, dtype: int64"
      ]
     },
     "execution_count": 132,
     "metadata": {},
     "output_type": "execute_result"
    }
   ],
   "source": [
    "values_to_remove44= [6,7]\n",
    "df = df[~df['SDC_020H'].isin(values_to_remove44)]\n",
    "#df['DHH_MS'] = df['DHH_MS'].astype(int)\n",
    "df['SDC_020H'].value_counts()"
   ]
  },
  {
   "cell_type": "code",
   "execution_count": 133,
   "id": "5413dc45",
   "metadata": {},
   "outputs": [
    {
     "data": {
      "text/plain": [
       "2    26405\n",
       "0      781\n",
       "1       50\n",
       "Name: SDC_020I, dtype: int64"
      ]
     },
     "execution_count": 133,
     "metadata": {},
     "output_type": "execute_result"
    }
   ],
   "source": [
    "values_to_remove45= [6,7]\n",
    "df = df[~df['SDC_020I'].isin(values_to_remove45)]\n",
    "#df['DHH_MS'] = df['DHH_MS'].astype(int)\n",
    "df['SDC_020I'].value_counts()"
   ]
  },
  {
   "cell_type": "code",
   "execution_count": 134,
   "id": "74a15956",
   "metadata": {},
   "outputs": [
    {
     "data": {
      "text/plain": [
       "2    26447\n",
       "0      781\n",
       "1        8\n",
       "Name: SDC_020J, dtype: int64"
      ]
     },
     "execution_count": 134,
     "metadata": {},
     "output_type": "execute_result"
    }
   ],
   "source": [
    "values_to_remove46= [6,7]\n",
    "df = df[~df['SDC_020J'].isin(values_to_remove46)]\n",
    "#df['DHH_MS'] = df['DHH_MS'].astype(int)\n",
    "df['SDC_020J'].value_counts()"
   ]
  },
  {
   "cell_type": "code",
   "execution_count": 135,
   "id": "04c2a1d1",
   "metadata": {},
   "outputs": [
    {
     "data": {
      "text/plain": [
       "2    26433\n",
       "0      781\n",
       "1       22\n",
       "Name: SDC_020K, dtype: int64"
      ]
     },
     "execution_count": 135,
     "metadata": {},
     "output_type": "execute_result"
    }
   ],
   "source": [
    "values_to_remove47= [6,7]\n",
    "df = df[~df['SDC_020K'].isin(values_to_remove47)]\n",
    "#df['DHH_MS'] = df['DHH_MS'].astype(int)\n",
    "df['SDC_020K'].value_counts()"
   ]
  },
  {
   "cell_type": "code",
   "execution_count": 136,
   "id": "2a35739b",
   "metadata": {},
   "outputs": [
    {
     "data": {
      "text/plain": [
       "2    15837\n",
       "1    10271\n",
       "0     1128\n",
       "Name: SDC_010A, dtype: int64"
      ]
     },
     "execution_count": 136,
     "metadata": {},
     "output_type": "execute_result"
    }
   ],
   "source": [
    "values_to_remove48= [6,7]\n",
    "df = df[~df['SDC_010A'].isin(values_to_remove48)]\n",
    "#df['DHH_MS'] = df['DHH_MS'].astype(int)\n",
    "df['SDC_010A'].value_counts()"
   ]
  },
  {
   "cell_type": "code",
   "execution_count": 137,
   "id": "6d918a62",
   "metadata": {},
   "outputs": [
    {
     "data": {
      "text/plain": [
       "1    15201\n",
       "2    10907\n",
       "0     1128\n",
       "Name: SDC_010B, dtype: int64"
      ]
     },
     "execution_count": 137,
     "metadata": {},
     "output_type": "execute_result"
    }
   ],
   "source": [
    "values_to_remove49= [6,7]\n",
    "df = df[~df['SDC_010B'].isin(values_to_remove49)]\n",
    "#df['DHH_MS'] = df['DHH_MS'].astype(int)\n",
    "df['SDC_010B'].value_counts()"
   ]
  },
  {
   "cell_type": "code",
   "execution_count": 138,
   "id": "9378921e",
   "metadata": {},
   "outputs": [
    {
     "data": {
      "text/plain": [
       "2    25275\n",
       "0     1128\n",
       "1      833\n",
       "Name: SDC_010C, dtype: int64"
      ]
     },
     "execution_count": 138,
     "metadata": {},
     "output_type": "execute_result"
    }
   ],
   "source": [
    "values_to_remove50= [6,7]\n",
    "df = df[~df['SDC_010C'].isin(values_to_remove50)]\n",
    "#df['DHH_MS'] = df['DHH_MS'].astype(int)\n",
    "df['SDC_010C'].value_counts()"
   ]
  },
  {
   "cell_type": "code",
   "execution_count": 139,
   "id": "24e93c7e",
   "metadata": {},
   "outputs": [
    {
     "data": {
      "text/plain": [
       "2    25724\n",
       "0     1128\n",
       "1      384\n",
       "Name: SDC_010D, dtype: int64"
      ]
     },
     "execution_count": 139,
     "metadata": {},
     "output_type": "execute_result"
    }
   ],
   "source": [
    "values_to_remove51= [6,7]\n",
    "df = df[~df['SDC_010D'].isin(values_to_remove51)]\n",
    "#df['DHH_MS'] = df['DHH_MS'].astype(int)\n",
    "df['SDC_010D'].value_counts()"
   ]
  },
  {
   "cell_type": "code",
   "execution_count": 140,
   "id": "6dc90f1b",
   "metadata": {},
   "outputs": [
    {
     "data": {
      "text/plain": [
       "2    24643\n",
       "1     1465\n",
       "0     1128\n",
       "Name: SDC_010F, dtype: int64"
      ]
     },
     "execution_count": 140,
     "metadata": {},
     "output_type": "execute_result"
    }
   ],
   "source": [
    "values_to_remove52= [6,7]\n",
    "df = df[~df['SDC_010F'].isin(values_to_remove52)]\n",
    "#df['DHH_MS'] = df['DHH_MS'].astype(int)\n",
    "df['SDC_010F'].value_counts()"
   ]
  },
  {
   "cell_type": "code",
   "execution_count": 141,
   "id": "d70b2c5b",
   "metadata": {},
   "outputs": [
    {
     "data": {
      "text/plain": [
       "2    25487\n",
       "0     1128\n",
       "1      621\n",
       "Name: SDC_010G, dtype: int64"
      ]
     },
     "execution_count": 141,
     "metadata": {},
     "output_type": "execute_result"
    }
   ],
   "source": [
    "values_to_remove52= [6,7]\n",
    "df = df[~df['SDC_010G'].isin(values_to_remove52)]\n",
    "#df['DHH_MS'] = df['DHH_MS'].astype(int)\n",
    "df['SDC_010G'].value_counts()"
   ]
  },
  {
   "cell_type": "code",
   "execution_count": 142,
   "id": "abf05324",
   "metadata": {},
   "outputs": [
    {
     "data": {
      "text/plain": [
       "2    26045\n",
       "0     1128\n",
       "1       63\n",
       "Name: SDC_010H, dtype: int64"
      ]
     },
     "execution_count": 142,
     "metadata": {},
     "output_type": "execute_result"
    }
   ],
   "source": [
    "values_to_remove52= [6,7]\n",
    "df = df[~df['SDC_010H'].isin(values_to_remove52)]\n",
    "#df['DHH_MS'] = df['DHH_MS'].astype(int)\n",
    "df['SDC_010H'].value_counts()"
   ]
  },
  {
   "cell_type": "code",
   "execution_count": 143,
   "id": "705c5d3b",
   "metadata": {},
   "outputs": [
    {
     "data": {
      "text/plain": [
       "2    26045\n",
       "0     1128\n",
       "1       63\n",
       "Name: SDC_010I, dtype: int64"
      ]
     },
     "execution_count": 143,
     "metadata": {},
     "output_type": "execute_result"
    }
   ],
   "source": [
    "values_to_remove52= [6,7]\n",
    "df = df[~df['SDC_010I'].isin(values_to_remove52)]\n",
    "#df['DHH_MS'] = df['DHH_MS'].astype(int)\n",
    "df['SDC_010I'].value_counts()"
   ]
  },
  {
   "cell_type": "code",
   "execution_count": 144,
   "id": "4e91e16f",
   "metadata": {},
   "outputs": [
    {
     "data": {
      "text/plain": [
       "2    25967\n",
       "0     1128\n",
       "1      141\n",
       "Name: SDC_010J, dtype: int64"
      ]
     },
     "execution_count": 144,
     "metadata": {},
     "output_type": "execute_result"
    }
   ],
   "source": [
    "values_to_remove52= [6,7]\n",
    "df = df[~df['SDC_010J'].isin(values_to_remove52)]\n",
    "#df['DHH_MS'] = df['DHH_MS'].astype(int)\n",
    "df['SDC_010J'].value_counts()"
   ]
  },
  {
   "cell_type": "code",
   "execution_count": 145,
   "id": "d256d3e3",
   "metadata": {},
   "outputs": [
    {
     "data": {
      "text/plain": [
       "2    26029\n",
       "0     1128\n",
       "1       79\n",
       "Name: SDC_010K, dtype: int64"
      ]
     },
     "execution_count": 145,
     "metadata": {},
     "output_type": "execute_result"
    }
   ],
   "source": [
    "values_to_remove52= [6,7]\n",
    "df = df[~df['SDC_010K'].isin(values_to_remove52)]\n",
    "#df['DHH_MS'] = df['DHH_MS'].astype(int)\n",
    "df['SDC_010K'].value_counts()"
   ]
  },
  {
   "cell_type": "code",
   "execution_count": 146,
   "id": "da0ef7fb",
   "metadata": {},
   "outputs": [
    {
     "data": {
      "text/plain": [
       "2    25954\n",
       "0     1128\n",
       "1      154\n",
       "Name: SDC_010L, dtype: int64"
      ]
     },
     "execution_count": 146,
     "metadata": {},
     "output_type": "execute_result"
    }
   ],
   "source": [
    "values_to_remove52= [6,7]\n",
    "df = df[~df['SDC_010L'].isin(values_to_remove52)]\n",
    "#df['DHH_MS'] = df['DHH_MS'].astype(int)\n",
    "df['SDC_010L'].value_counts()"
   ]
  },
  {
   "cell_type": "code",
   "execution_count": 147,
   "id": "8d647a6b",
   "metadata": {},
   "outputs": [
    {
     "data": {
      "text/plain": [
       "2    25985\n",
       "0     1128\n",
       "1      123\n",
       "Name: SDC_010M, dtype: int64"
      ]
     },
     "execution_count": 147,
     "metadata": {},
     "output_type": "execute_result"
    }
   ],
   "source": [
    "values_to_remove52= [6,7]\n",
    "df = df[~df['SDC_010M'].isin(values_to_remove52)]\n",
    "#df['DHH_MS'] = df['DHH_MS'].astype(int)\n",
    "df['SDC_010M'].value_counts()"
   ]
  },
  {
   "cell_type": "code",
   "execution_count": 148,
   "id": "28690884",
   "metadata": {},
   "outputs": [
    {
     "data": {
      "text/plain": [
       "2    26032\n",
       "0     1128\n",
       "1       76\n",
       "Name: SDC_010N, dtype: int64"
      ]
     },
     "execution_count": 148,
     "metadata": {},
     "output_type": "execute_result"
    }
   ],
   "source": [
    "values_to_remove52= [6,7]\n",
    "df = df[~df['SDC_010N'].isin(values_to_remove52)]\n",
    "#df['DHH_MS'] = df['DHH_MS'].astype(int)\n",
    "df['SDC_010N'].value_counts()"
   ]
  },
  {
   "cell_type": "code",
   "execution_count": 149,
   "id": "88b74e11",
   "metadata": {},
   "outputs": [
    {
     "data": {
      "text/plain": [
       "2    26089\n",
       "0     1128\n",
       "1       19\n",
       "Name: SDC_010O, dtype: int64"
      ]
     },
     "execution_count": 149,
     "metadata": {},
     "output_type": "execute_result"
    }
   ],
   "source": [
    "values_to_remove52= [6,7]\n",
    "df = df[~df['SDC_010O'].isin(values_to_remove52)]\n",
    "#df['DHH_MS'] = df['DHH_MS'].astype(int)\n",
    "df['SDC_010O'].value_counts()"
   ]
  },
  {
   "cell_type": "code",
   "execution_count": 150,
   "id": "5620a409",
   "metadata": {},
   "outputs": [
    {
     "data": {
      "text/plain": [
       "2    26096\n",
       "0     1128\n",
       "1       12\n",
       "Name: SDC_010P, dtype: int64"
      ]
     },
     "execution_count": 150,
     "metadata": {},
     "output_type": "execute_result"
    }
   ],
   "source": [
    "values_to_remove52= [6,7]\n",
    "df = df[~df['SDC_010P'].isin(values_to_remove52)]\n",
    "#df['DHH_MS'] = df['DHH_MS'].astype(int)\n",
    "df['SDC_010P'].value_counts()"
   ]
  },
  {
   "cell_type": "code",
   "execution_count": 151,
   "id": "ac51996b",
   "metadata": {},
   "outputs": [
    {
     "data": {
      "text/plain": [
       "2    26088\n",
       "0     1128\n",
       "1       20\n",
       "Name: SDC_010Q, dtype: int64"
      ]
     },
     "execution_count": 151,
     "metadata": {},
     "output_type": "execute_result"
    }
   ],
   "source": [
    "values_to_remove52= [6,7]\n",
    "df = df[~df['SDC_010Q'].isin(values_to_remove52)]\n",
    "#df['DHH_MS'] = df['DHH_MS'].astype(int)\n",
    "df['SDC_010Q'].value_counts()"
   ]
  },
  {
   "cell_type": "code",
   "execution_count": 152,
   "id": "901e46eb",
   "metadata": {},
   "outputs": [
    {
     "data": {
      "text/plain": [
       "2    23069\n",
       "1     3039\n",
       "0     1128\n",
       "Name: SDC_010U, dtype: int64"
      ]
     },
     "execution_count": 152,
     "metadata": {},
     "output_type": "execute_result"
    }
   ],
   "source": [
    "values_to_remove52= [6,7]\n",
    "df = df[~df['SDC_010U'].isin(values_to_remove52)]\n",
    "#df['DHH_MS'] = df['DHH_MS'].astype(int)\n",
    "df['SDC_010U'].value_counts()"
   ]
  },
  {
   "cell_type": "code",
   "execution_count": 153,
   "id": "37e53f0e",
   "metadata": {},
   "outputs": [
    {
     "data": {
      "text/plain": [
       "2    25876\n",
       "0     1128\n",
       "1      232\n",
       "Name: SDC_010S, dtype: int64"
      ]
     },
     "execution_count": 153,
     "metadata": {},
     "output_type": "execute_result"
    }
   ],
   "source": [
    "values_to_remove52= [6,7]\n",
    "df = df[~df['SDC_010S'].isin(values_to_remove52)]\n",
    "#df['DHH_MS'] = df['DHH_MS'].astype(int)\n",
    "df['SDC_010S'].value_counts()"
   ]
  },
  {
   "cell_type": "code",
   "execution_count": 154,
   "id": "d70ee7e0",
   "metadata": {},
   "outputs": [
    {
     "data": {
      "text/plain": [
       "2    26082\n",
       "0     1128\n",
       "1       26\n",
       "Name: SDC_010T, dtype: int64"
      ]
     },
     "execution_count": 154,
     "metadata": {},
     "output_type": "execute_result"
    }
   ],
   "source": [
    "values_to_remove52= [6,7]\n",
    "df = df[~df['SDC_010T'].isin(values_to_remove52)]\n",
    "#df['DHH_MS'] = df['DHH_MS'].astype(int)\n",
    "df['SDC_010T'].value_counts()"
   ]
  },
  {
   "cell_type": "code",
   "execution_count": 76,
   "id": "b3d95a69",
   "metadata": {},
   "outputs": [],
   "source": [
    "df.rename(columns ={'CCC_090':'stroke'}, inplace = True)\n",
    "#Convert Values\n",
    "df['stroke'] = df['stroke'].replace({1:1, 2:0})\n",
    "#print(df)\n",
    "#df['stroke'].value_counts()"
   ]
  },
  {
   "cell_type": "code",
   "execution_count": 77,
   "id": "1a9f28a4",
   "metadata": {},
   "outputs": [
    {
     "data": {
      "text/plain": [
       "0.0    26694\n",
       "1.0      512\n",
       "Name: stroke, dtype: int64"
      ]
     },
     "execution_count": 77,
     "metadata": {},
     "output_type": "execute_result"
    }
   ],
   "source": [
    "values_to_remove = [7.0,8.0,9.0]\n",
    "df = df[~df['stroke'].isin(values_to_remove)]\n",
    "#df['stroke'] = df['stroke'].astype(int)\n",
    "df['stroke'].value_counts()"
   ]
  },
  {
   "cell_type": "code",
   "execution_count": 78,
   "id": "63679305",
   "metadata": {},
   "outputs": [
    {
     "data": {
      "text/plain": [
       "DHH_MS        14\n",
       "DHH_SEX        0\n",
       "DHH_AGE        0\n",
       "MAC_010     4291\n",
       "LBF_01      4230\n",
       "            ... \n",
       "SDC_010P    1128\n",
       "SDC_010Q    1128\n",
       "SDC_010U    1128\n",
       "SDC_010S    1128\n",
       "SDC_010T    1128\n",
       "Length: 69, dtype: int64"
      ]
     },
     "execution_count": 78,
     "metadata": {},
     "output_type": "execute_result"
    }
   ],
   "source": [
    "df.isna().sum()"
   ]
  },
  {
   "cell_type": "code",
   "execution_count": 79,
   "id": "992ef329",
   "metadata": {},
   "outputs": [
    {
     "data": {
      "text/plain": [
       "(27236, 69)"
      ]
     },
     "execution_count": 79,
     "metadata": {},
     "output_type": "execute_result"
    }
   ],
   "source": [
    "# Replace missing values and infinities with 0 for numerical stability.\n",
    "df = df.replace([np.nan, np.inf, -np.inf], 0)\n",
    "\n",
    "# Compute and round median values of columns, filling NaNs with these medians for data consistency.\n",
    "median_values = df.median(skipna=True)\n",
    "rounded_median_values = median_values.round().astype(int)\n",
    "df = df.fillna(rounded_median_values)\n",
    "\n",
    "# Convert all dataframe values to integers, standardizing data type across the dataset.\n",
    "df = df.astype(int)\n",
    "\n",
    "# Display the dimensions of the DataFrame to verify its structure.\n",
    "df.shape"
   ]
  },
  {
   "cell_type": "code",
   "execution_count": 80,
   "id": "417d323a",
   "metadata": {},
   "outputs": [
    {
     "name": "stdout",
     "output_type": "stream",
     "text": [
      "Empty DataFrame\n",
      "Columns: [DHH_MS, DHH_SEX, DHH_AGE, MAC_010, LBF_01, PHC_020, GEODVUR2, DHH_OWN, STS_005, STS_010, GEN_005, GEN_020, FSC_010, FSC_010.1, FSC_055, GEN_030, EHG2DVH3, ALC_010, ALC_015, CCC_015, CCC_065, CCC_070, CCC_095, CCC_085, stroke, CCC_080, SMK_020, SMK_005, HWT_040, HWT_050, HWT_045, HWT_005, ETS_035, ETS_040, CCC_195, CCC_200, CMH_005, SDC_015, SDC_020A, SDC_020C, SDC_020B, SDC_020D, SDC_020E, SDC_020F, SDC_020H, SDC_020G, SDC_020I, SDC_020K, SDC_020J, SDC_010A, SDC_010B, SDC_010C, SDC_010D, SDC_010E, SDC_010F, SDC_010G, SDC_010H, SDC_010I, SDC_010J, SDC_010K, SDC_010L, SDC_010M, SDC_010N, SDC_010O, SDC_010P, SDC_010Q, SDC_010U, SDC_010S, SDC_010T]\n",
      "Index: []\n",
      "\n",
      "[0 rows x 69 columns]\n"
     ]
    }
   ],
   "source": [
    "# Identify rows with any NaN values and store them in 'nan_values'.\n",
    "nan_values = df[df.isna().any(axis=1)]\n",
    "\n",
    "# Identify rows with any infinite values and store them in 'inf_values'.\n",
    "inf_values = df[np.isinf(df).any(axis=1)]\n",
    "\n",
    "# Combine rows with NaN or infinite values into a single DataFrame and remove duplicates.\n",
    "non_finite_values = pd.concat([nan_values, inf_values]).drop_duplicates()\n",
    "\n",
    "# Print the combined DataFrame containing all rows with non-finite values.\n",
    "print(non_finite_values)"
   ]
  },
  {
   "cell_type": "code",
   "execution_count": 81,
   "id": "6a157182",
   "metadata": {},
   "outputs": [
    {
     "name": "stdout",
     "output_type": "stream",
     "text": [
      "no decimal values\n"
     ]
    }
   ],
   "source": [
    "# Filter the DataFrame to include only numeric columns with floating-point data types.\n",
    "numeric_columns = df.select_dtypes(include=['float64', 'float32', 'float16'])\n",
    "\n",
    "# Check if the filtered DataFrame 'numeric_columns' is empty, indicating no columns with decimal values were found.\n",
    "if numeric_columns.empty:\n",
    "    print(\"no decimal values\")  # Inform the user that no floating-point numeric columns are present in the DataFrame.\n",
    "else:\n",
    "    print(\"decimal values found in:\")  # Notify the user that columns with decimal (floating-point) values exist.\n",
    "    print(numeric_columns)  # Display the columns containing decimal values."
   ]
  },
  {
   "cell_type": "code",
   "execution_count": 82,
   "id": "0f6b7352",
   "metadata": {},
   "outputs": [],
   "source": [
    "df.to_csv('merged_survey_data_cleaned.csv', index = False)"
   ]
  },
  {
   "cell_type": "code",
   "execution_count": 10,
   "id": "6775896e",
   "metadata": {},
   "outputs": [],
   "source": [
    "# Load the dataset from the specified path into a pandas DataFrame.\n",
    "path = '/Users/gaurisharma/Library/CloudStorage/OneDrive-McGillUniversity/statqc/data.csv'\n",
    "df1 = pd.read_csv(path)\n",
    "\n",
    "# Define a dictionary to map the existing column names to new names\n",
    "column_name_mapping = {\n",
    "    'SDC_020A': 'White',\n",
    "    'SDC_020C': 'Chinese',\n",
    "    'SDC_020B': 'South Asian',\n",
    "    'SDC_020D': 'Black',\n",
    "    'SDC_020E': 'Filipino',\n",
    "    'SDC_020F': 'Latin America',\n",
    "    'SDC_020H': 'South-East Asian',\n",
    "    'SDC_020G': 'Arab',\n",
    "    'SDC_020I': 'West Asian',\n",
    "    'SDC_020K': 'Japanese',\n",
    "    'SDC_020J': 'Korean'\n",
    "}\n",
    "\n",
    "# Rename the columns in your DataFrame\n",
    "df1.rename(columns=column_name_mapping, inplace=True)\n",
    "\n",
    "# Similarly, define another dictionary for mapping existing column names to new, more descriptive names for ethnicity categories.\n",
    "ethnicity_column_name_mapping = {\n",
    "    'SDC_010A': 'Canadian',\n",
    "    'SDC_010B': 'French',\n",
    "    'SDC_010C': 'English',\n",
    "    'SDC_010D': 'German',\n",
    "    'SDC_010E': 'Scottish',\n",
    "    'SDC_010F': 'Irish',\n",
    "    'SDC_010G': 'Italian',\n",
    "    'SDC_010H': 'Ukrainian',\n",
    "    'SDC_010I': 'Dutch',\n",
    "    'SDC_010J': 'Chinese (Ethnic)',\n",
    "    'SDC_010K': 'Jewish',\n",
    "    'SDC_010L': 'Polish',\n",
    "    'SDC_010M': 'Portuguese',\n",
    "    'SDC_010N': 'South Asian (Ethnic)',\n",
    "    'SDC_010O': 'Norwegian',\n",
    "    'SDC_010P': 'Welsh',\n",
    "    'SDC_010Q': 'Swedish',\n",
    "    'SDC_010U': 'Other',\n",
    "    'SDC_010S': 'Metis',\n",
    "    'SDC_010T': 'Inuit'\n",
    "}\n",
    "\n",
    "# Rename the columns in the DataFrame\n",
    "df1.rename(columns=ethnicity_column_name_mapping, inplace=True)"
   ]
  },
  {
   "cell_type": "code",
   "execution_count": 11,
   "id": "beef8e8d",
   "metadata": {},
   "outputs": [],
   "source": [
    "# Save the modified DataFrame 'df1' to a new CSV file named 'survey_data_renamed.csv'.\n",
    "df1.to_csv('survey_data_renamed.csv', index=False)"
   ]
  }
 ],
 "metadata": {
  "kernelspec": {
   "display_name": "pytorch_test",
   "language": "python",
   "name": "pytorch_test"
  },
  "language_info": {
   "codemirror_mode": {
    "name": "ipython",
    "version": 3
   },
   "file_extension": ".py",
   "mimetype": "text/x-python",
   "name": "python",
   "nbconvert_exporter": "python",
   "pygments_lexer": "ipython3",
   "version": "3.8.12"
  }
 },
 "nbformat": 4,
 "nbformat_minor": 5
}
