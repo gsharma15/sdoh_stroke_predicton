{
 "cells": [
  {
   "cell_type": "code",
   "execution_count": null,
   "metadata": {},
   "outputs": [],
   "source": [
    "# Import necessary libraries\n",
    "import pandas as pd\n",
    "import os\n",
    "\n",
    "# Define the path where the CSV files are stored.\n",
    "path = r'new_data'\n",
    "\n",
    "# List all files in the given directory.\n",
    "file_list = os.listdir(path)\n",
    "\n",
    "# Define the chunk size indicating the number of files to read and concatenate at a time.\n",
    "chunk_size = 1000\n",
    "\n",
    "# Initialize an empty list to hold DataFrames created from each chunk of files.\n",
    "chunked_data_frames = []\n",
    "\n",
    "# Iterate over the file list in steps of chunk_size.\n",
    "for i in range(0, len(file_list), chunk_size):\n",
    "    # Select a subset of files for the current chunk.\n",
    "    chunk_files = file_list[i:i+chunk_size]\n",
    "    # Initialize an empty list to store DataFrames for the current chunk of files.\n",
    "    data_frames = []\n",
    "\n",
    "    # Read each file in the current chunk, load it into a DataFrame, and append it to the list.\n",
    "    for file in chunk_files:\n",
    "        file_path = os.path.join(path, file)\n",
    "        survey_data = pd.read_csv(file_path, encoding='latin1', delimiter=',')\n",
    "        data_frames.append(survey_data)\n",
    "\n",
    "    # Concatenate all DataFrames in the current chunk into a single DataFrame.\n",
    "    chunked_data = pd.concat(data_frames, ignore_index=True)\n",
    "    # Append the concatenated DataFrame of the current chunk to the list of chunked DataFrames.\n",
    "    chunked_data_frames.append(chunked_data)\n",
    "\n",
    "# Concatenate all chunked DataFrames vertically into a single DataFrame representing the merged dataset.\n",
    "merged_data = pd.concat(chunked_data_frames, ignore_index=True)\n",
    "\n",
    "# Display information about the merged DataFrame, such as its number of rows and columns.\n",
    "print(merged_data.shape[0])  # Number of rows\n",
    "print(merged_data.shape[1])  # Number of columns\n",
    "merged_data.info()  # Detailed information about the DataFrame\n",
    "\n",
    "# Save the merged DataFrame to a CSV file for future use.\n",
    "merged_data.to_csv('merged_survey_data.csv', index=True)"
   ]
  }
 ],
 "metadata": {
  "language_info": {
   "name": "python"
  }
 },
 "nbformat": 4,
 "nbformat_minor": 2
}
